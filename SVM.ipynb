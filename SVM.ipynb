{
 "cells": [
  {
   "cell_type": "code",
   "execution_count": 5,
   "metadata": {},
   "outputs": [],
   "source": [
    "from sklearn.svm import SVC\n",
    "import matplotlib.pyplot as plt\n",
    "import numpy as np\n",
    "import scipy.io as scio\n",
    "import operator\n",
    "from functools import reduce\n",
    "import const\n",
    "from sklearn.model_selection import train_test_split # 分割数据模块"
   ]
  },
  {
   "cell_type": "code",
   "execution_count": 29,
   "metadata": {},
   "outputs": [
    {
     "name": "stderr",
     "output_type": "stream",
     "text": [
      "c:\\users\\zhchxiao\\anaconda3\\envs\\pytorch\\lib\\site-packages\\sklearn\\model_selection\\_split.py:2179: FutureWarning: From version 0.21, test_size will always complement train_size unless both are specified.\n",
      "  FutureWarning)\n"
     ]
    },
    {
     "data": {
      "text/plain": [
       "0.85"
      ]
     },
     "execution_count": 29,
     "metadata": {},
     "output_type": "execute_result"
    }
   ],
   "source": [
    "import const\n",
    "result_tamper = scio.loadmat('result_tamper.mat')  # 读入字典\n",
    "result_original = scio.loadmat('result_original.mat')\n",
    "# tamper_result = []\n",
    "# original_result = []\n",
    "# result = []\n",
    "# rresult = np.zeros((180, 3000))\n",
    "# test = np.zeros((20, 3000))\n",
    "\n",
    "\n",
    "\n",
    "for i in range(100):\n",
    "    tamper_result.append(result_tamper['result_tamper'][i][0])\n",
    "    original_result.append(result_original['result_original'][i][0])\n",
    "tamper_result_array = np.array(tamper_result)  # shape为（100， 3， 1800）\n",
    "original_result_array = np.array(original_result)  # shape为（100， 3， 1800）\n",
    "result = np.concatenate((tamper_result_array[0:100], original_result_array[0:100]), axis=0)\n",
    "label = np.array([1] * 100 + [0] * 100)\n",
    "\n",
    "X_train, X_test, y_train, y_test = train_test_split(result, label, random_state=1, train_size=0.7)\n",
    "\n",
    "X_train = np.reshape(X_train, (X_train.shape[0], 3000))\n",
    "X_test = np.reshape(X_test, (X_test.shape[0], 3000))\n",
    "\n",
    "svc = SVC(kernel='rbf', degree=2, gamma=50, coef0=1, C=90)\n",
    "svc.fit(X_train, y_train)\n",
    "\n",
    "svc.score(X_test, y_test)\n",
    "\n",
    "\n",
    "# for j in range(180):\n",
    "#     rresult[j] = result[j].flatten()\n",
    "# for k in range(10):\n",
    "#     test[k] = original_result_array[k + 90].flatten()\n",
    "    \n",
    "# for k in range(10, 20):\n",
    "#     test[k] = tamper_result_array[k + 80].flatten()\n",
    "# rresult.shape\n"
   ]
  },
  {
   "cell_type": "code",
   "execution_count": null,
   "metadata": {},
   "outputs": [],
   "source": [
    "print(result.shape)"
   ]
  },
  {
   "cell_type": "code",
   "execution_count": null,
   "metadata": {},
   "outputs": [],
   "source": [
    "# rresult = rresult[:, [3600, 5399]]\n",
    "# test = test[:, [3600, 5399]]\n",
    "\n",
    "\n",
    "\n",
    "\n",
    "\n",
    "pre = svc.predict(test)\n",
    "print(pre)"
   ]
  },
  {
   "cell_type": "code",
   "execution_count": null,
   "metadata": {},
   "outputs": [],
   "source": [
    "print(tamper_result_array[0:100].shape)"
   ]
  },
  {
   "cell_type": "code",
   "execution_count": null,
   "metadata": {},
   "outputs": [],
   "source": [
    "range(80, 100)"
   ]
  },
  {
   "cell_type": "code",
   "execution_count": null,
   "metadata": {},
   "outputs": [],
   "source": [
    "result_tamper = scio.loadmat('result_tamper.mat')  # 读入字典\n",
    "result_original = scio.loadmat('result_original.mat')\n",
    "\n",
    "for i in range(100):\n",
    "    print(result_tamper['result_tamper'][i][0].shape)\n",
    "    print(result_original['result_original'][i][0].shape)"
   ]
  },
  {
   "cell_type": "code",
   "execution_count": null,
   "metadata": {},
   "outputs": [],
   "source": [
    "test = scio.loadmat('test.mat')\n",
    "test['result_original'][0][0]"
   ]
  },
  {
   "cell_type": "code",
   "execution_count": null,
   "metadata": {},
   "outputs": [],
   "source": [
    "\n",
    "import numpy as np\n",
    "y1=np.random.randint(2,10,(5,3))\n",
    "print (\"排序列表：\", y1)"
   ]
  },
  {
   "cell_type": "code",
   "execution_count": null,
   "metadata": {},
   "outputs": [],
   "source": [
    "\n",
    "np.random.shuffle(y1)\n",
    "y1"
   ]
  },
  {
   "cell_type": "code",
   "execution_count": null,
   "metadata": {},
   "outputs": [],
   "source": [
    "nums = [1, 4, 2, 3, 4, 4, 4, 4, 4, 2, 3, 5]\n",
    "nums.remove(4)\n",
    "nums"
   ]
  },
  {
   "cell_type": "code",
   "execution_count": null,
   "metadata": {},
   "outputs": [],
   "source": [
    "class Solution(object):\n",
    "    def removeDuplicates(self, nums):\n",
    "        \"\"\"\n",
    "        :type nums: List[int]\n",
    "        :rtype: int\n",
    "        \"\"\"\n",
    "        n = set(nums)\n",
    "        nu = list(n)\n",
    "        for i in range(len(nu)):\n",
    "            print(nu[i])\n",
    "\n",
    "Solution().removeDuplicates(nums)"
   ]
  },
  {
   "cell_type": "code",
   "execution_count": null,
   "metadata": {},
   "outputs": [],
   "source": [
    "class Solution(object):\n",
    "    def removeElement(self, nums, val):\n",
    "        \"\"\"\n",
    "        :type nums: List[int]\n",
    "        :type val: int\n",
    "        :rtype: int\n",
    "        \"\"\"\n",
    "        l = len(nums)\n",
    "        x = 0\n",
    "        for i in range(l):\n",
    "            if nums[i] == val:\n",
    "                x = x + 1\n",
    "                \n",
    "        for j in range(x):\n",
    "            nums.remove(val)\n",
    "        return nums\n",
    "Solution().removeElement([0,1,2,2,3,0,4,2], 2)"
   ]
  },
  {
   "cell_type": "code",
   "execution_count": null,
   "metadata": {},
   "outputs": [],
   "source": [
    "x=[1,2,1,2,1,2,1,2]\n",
    "y=[1,1,2,1,2,1,2,1,1,1,2]\n",
    "for i in x:\n",
    "    if i==1:\n",
    "        x.remove(i)\n",
    "print(\"List_1=\",x)"
   ]
  },
  {
   "cell_type": "code",
   "execution_count": null,
   "metadata": {},
   "outputs": [],
   "source": [
    "i = 1\n",
    "j = 2\n",
    "x[i:j]"
   ]
  },
  {
   "cell_type": "code",
   "execution_count": null,
   "metadata": {},
   "outputs": [],
   "source": [
    "import numpy as np\n",
    "\n",
    "np.sum(np.array([1, 3, 4]))"
   ]
  },
  {
   "cell_type": "code",
   "execution_count": null,
   "metadata": {},
   "outputs": [],
   "source": [
    "import numpy as np\n",
    "class Solution(object):\n",
    "    def maxSubArray(self, nums):\n",
    "        \"\"\"\n",
    "        :type nums: List[int]\n",
    "        :rtype: int\n",
    "        \"\"\"\n",
    "        result = []\n",
    "        for i in range(len(nums) - 1):\n",
    "            for j in range(i, len(nums)):\n",
    "                if np.unique(np.array(nums[i:j])).shape[0] != np.array(nums[i:j]).shape[0]:\n",
    "                    break\n",
    "                else:\n",
    "                    result.append(np.sum(np.array(nums[i:j])))\n",
    "        \n",
    "        return np.max(np.array(result))\n",
    "    \n",
    "Solution().maxSubArray([-2,1,-3,4,-1,2,1,-5,4])"
   ]
  },
  {
   "cell_type": "code",
   "execution_count": null,
   "metadata": {},
   "outputs": [],
   "source": [
    "s = input()\n",
    "l = len(s)\n",
    "i = 0\n",
    "j = 1\n",
    "num = []\n",
    "cara = []\n",
    "result = []\n",
    "while True:\n",
    "    if s[i] == s[i + 1]:\n",
    "        j = j + 1\n",
    "    else:\n",
    "        num.append(j)\n",
    "        cara.append(s[i])\n",
    "        j = 1\n",
    "        if s[l - 2] != s[l - 1]:\n",
    "            num.append(j)\n",
    "            cara.append(s[i])\n",
    "    i = i + 1\n",
    "    if i == l - 1:\n",
    "        break\n",
    "for k in range(len(num)):\n",
    "    result.append(num[k])\n",
    "    result.append(cara[k])\n",
    "print(str(result))"
   ]
  },
  {
   "cell_type": "code",
   "execution_count": null,
   "metadata": {},
   "outputs": [],
   "source": [
    "a, b = input().split()"
   ]
  },
  {
   "cell_type": "code",
   "execution_count": null,
   "metadata": {},
   "outputs": [],
   "source": [
    "marix = [][]"
   ]
  },
  {
   "cell_type": "code",
   "execution_count": null,
   "metadata": {},
   "outputs": [],
   "source": [
    "import numpy as np\n",
    "N, D = input(\"\\n\").split()\n",
    "matrix = []\n",
    "col = []\n",
    "d = 0\n",
    "N = int(N)\n",
    "for i in range(N):\n",
    "    d = input()\n",
    "    col.append(d)\n",
    "    \n",
    "print(np.array(col).shape)\n",
    "\n",
    "for j in range(N):\n",
    "    matrix.append(col[j])\n",
    "\n",
    "print(len(matrix))"
   ]
  },
  {
   "cell_type": "code",
   "execution_count": null,
   "metadata": {},
   "outputs": [],
   "source": []
  }
 ],
 "metadata": {
  "kernelspec": {
   "display_name": "Python 3",
   "language": "python",
   "name": "python3"
  },
  "language_info": {
   "codemirror_mode": {
    "name": "ipython",
    "version": 3
   },
   "file_extension": ".py",
   "mimetype": "text/x-python",
   "name": "python",
   "nbconvert_exporter": "python",
   "pygments_lexer": "ipython3",
   "version": "3.6.6"
  },
  "latex_envs": {
   "LaTeX_envs_menu_present": true,
   "autoclose": false,
   "autocomplete": true,
   "bibliofile": "biblio.bib",
   "cite_by": "apalike",
   "current_citInitial": 1,
   "eqLabelWithNumbers": true,
   "eqNumInitial": 1,
   "hotkeys": {
    "equation": "Ctrl-E",
    "itemize": "Ctrl-I"
   },
   "labels_anchors": false,
   "latex_user_defs": false,
   "report_style_numbering": false,
   "user_envs_cfg": false
  },
  "toc": {
   "base_numbering": 1,
   "nav_menu": {},
   "number_sections": true,
   "sideBar": true,
   "skip_h1_title": false,
   "title_cell": "Table of Contents",
   "title_sidebar": "Contents",
   "toc_cell": false,
   "toc_position": {},
   "toc_section_display": true,
   "toc_window_display": false
  }
 },
 "nbformat": 4,
 "nbformat_minor": 2
}
